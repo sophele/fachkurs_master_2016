{
 "cells": [
  {
   "cell_type": "markdown",
   "metadata": {},
   "source": [
    "# Exercise Numpy/Scipy"
   ]
  },
  {
   "cell_type": "markdown",
   "metadata": {},
   "source": [
    "### 1. Basics\n",
    "1. generate a 1-vector of size 10\n",
    "2. generate a zero-matrix of size 4x3\n",
    "3. generate a 3x3 identity matrix\n",
    "4. generate 100 evenly spaced values between 7 and 9\n",
    "5. Form the 2-D array (without typing it in explicitly):\n",
    "\n",
    "[[1,  6, 11],<br/>\n",
    "[2,  7, 12],<br/>\n",
    "[3,  8, 13],<br/>\n",
    "[4,  9, 14],<br/>\n",
    "[5, 10, 15]]<br/>\n",
    "\n",
    "5. contruct a vector of length 100 with alternating ones and zeros ( hint: use slice indexing )\n",
    "6. construct a 8x8 matrix with a checkboard pattern of zeros and ones\n",
    "7. compute the inverse, eigenvectors and eigenvalues of the following matrix:\n",
    "$$\\mathbf{A} = \\left[\\begin{array}\n",
    "{rrr}\n",
    "1 & 2 & 3 \\\\\n",
    "4 & 5 & 6 \\\\\n",
    "7 & 8 & 9\n",
    "\\end{array}\\right]\n",
    "$$\n"
   ]
  },
  {
   "cell_type": "code",
   "execution_count": 1,
   "metadata": {
    "collapsed": false
   },
   "outputs": [],
   "source": [
    "import numpy as np\n"
   ]
  },
  {
   "cell_type": "code",
   "execution_count": 20,
   "metadata": {
    "collapsed": false
   },
   "outputs": [],
   "source": [
    "# 1. \n",
    "v = np.ones(10)\n",
    "\n",
    "# 2. \n",
    "Z = np.zeros( (4,3) )\n",
    "\n",
    "# 3.\n",
    "I = np.identity(3)\n",
    "\n",
    "# 4.\n",
    "np.linspace(6,7,0.01)\n",
    "\n",
    "# 5.\n",
    "np.array( [ range(1,6), range(6,11), range(11,16) ] ).transpose()\n",
    "\n",
    "# 4. \n",
    "v = np.zeros(100)\n",
    "v[::2] = 1\n",
    "\n",
    "# 5. \n",
    "M = np.zeros( (8,8) )\n",
    "M[::2,::2] = 1\n",
    "M[1::2, 1::2] = 1\n",
    "\n",
    "\n",
    "# 7.\n",
    "A = np.array( [[6,4,9],[1,0,2],[3,1,1]] )\n",
    "np.linalg.inv(A)\n",
    "e_values, e_vectors =  np.linalg.eig(A)"
   ]
  },
  {
   "cell_type": "markdown",
   "metadata": {},
   "source": [
    "# 2. Mandelbrot\n",
    "\n",
    "The mandelbrot is defined as the set of complex numbers $c$ for which the iteration $z_{n+1} = (z_n)^2 + c$, with $z_0=0$ does not diverge. In this exercise we want to compute the Mandelbrot set within a certain range.\n",
    "\n",
    "1. implement the function `in_mandelbrot( real, comp )` which computes whether a complex number (real = real part, comp=complex part) belongs to the mandelbrot set. Hint: the complex number 5+3i can be constructed in python as follows: `c = 5 + 1j*3`. Iterate `N_max` times and use the threshold `thresh`.\n",
    "2. generate a 2D array with `1000x1000` zeros called `M`\n",
    "3. compute for for all complex numbers with real part between -2 and 1 and with complex part between -1.5 and 1.5 whether they belong the Mandelbrot set and store the result in `M`.\n"
   ]
  },
  {
   "cell_type": "code",
   "execution_count": 49,
   "metadata": {
    "collapsed": false
   },
   "outputs": [
    {
     "name": "stderr",
     "output_type": "stream",
     "text": [
      "/usr/lib/python2.7/dist-packages/IPython/kernel/__main__.py:9: RuntimeWarning: overflow encountered in cdouble_scalars\n",
      "/usr/lib/python2.7/dist-packages/IPython/kernel/__main__.py:9: RuntimeWarning: invalid value encountered in cdouble_scalars\n"
     ]
    }
   ],
   "source": [
    "N_max = 50 # number of iterations\n",
    "thresh = 50 # threshold\n",
    "\n",
    "def in_mandelbrot( real, comp ):\n",
    "    # computes whether a complex number (real = real part, comp=complex part) belongs to the mandelbrot set\n",
    "    c = real + 1j*comp\n",
    "    z = 0\n",
    "    for x in xrange(N_max):\n",
    "        z = z**2 + c\n",
    "    return z < thresh\n",
    "\n",
    "real = np.linspace(-2,1, 1000)\n",
    "comp = np.linspace(-1.5, 1.5, 1000)\n",
    "\n",
    "M = np.zeros( (len(real), len(comp)) )\n",
    "\n",
    "for i,r in enumerate(real):\n",
    "    for j,c in enumerate(comp):\n",
    "        M[i,j] = in_mandelbrot(r,c)\n",
    "        "
   ]
  },
  {
   "cell_type": "code",
   "execution_count": 46,
   "metadata": {
    "collapsed": false
   },
   "outputs": [],
   "source": [
    "# plot the mandelbrot fractal\n",
    "# assusmes M is a 2D array filled with boolean values\n",
    "import matplotlib.pyplot as plt\n",
    "plt.imshow( M)\n",
    "plt.show()"
   ]
  },
  {
   "cell_type": "code",
   "execution_count": null,
   "metadata": {
    "collapsed": false
   },
   "outputs": [],
   "source": []
  },
  {
   "cell_type": "code",
   "execution_count": null,
   "metadata": {
    "collapsed": true
   },
   "outputs": [],
   "source": []
  }
 ],
 "metadata": {
  "kernelspec": {
   "display_name": "Python 2",
   "language": "python",
   "name": "python2"
  },
  "language_info": {
   "codemirror_mode": {
    "name": "ipython",
    "version": 2
   },
   "file_extension": ".py",
   "mimetype": "text/x-python",
   "name": "python",
   "nbconvert_exporter": "python",
   "pygments_lexer": "ipython2",
   "version": "2.7.6"
  }
 },
 "nbformat": 4,
 "nbformat_minor": 0
}
