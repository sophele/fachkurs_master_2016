{
 "cells": [
  {
   "cell_type": "markdown",
   "metadata": {},
   "source": [
    "# Exercise Numpy/Scipy"
   ]
  },
  {
   "cell_type": "markdown",
   "metadata": {},
   "source": [
    "### 1. Basics\n",
    "1. generate a 1-vector of size 10\n",
    "2. generate a zero-matrix of size 4x3\n",
    "3. generate a 3x3 identity matrix\n",
    "4. generate 100 evenly spaced values between 7 and 9\n",
    "5. Form the 2-D array (without typing it in explicitly):    \n",
    "[[1,  6, 11],<br/>\n",
    "[2,  7, 12],<br/>\n",
    "[3,  8, 13],<br/>\n",
    "[4,  9, 14],<br/>\n",
    "[5, 10, 15]]<br/>\n",
    "6. contruct a vector of length 100 with alternating ones and zeros ( hint: use slice indexing )\n",
    "7. construct a 8x8 matrix with a checkboard pattern of zeros and ones\n",
    "8. compute the inverse, eigenvectors and eigenvalues of the following matrix:\n",
    "$$\\mathbf{A} = \\left[\\begin{array}\n",
    "{rrr}\n",
    "6 & 4 & 9 \\\\\n",
    "1 & 0 & 2 \\\\\n",
    "3 & 1 & 1\n",
    "\\end{array}\\right]\n",
    "$$\n"
   ]
  },
  {
   "cell_type": "code",
   "execution_count": 2,
   "metadata": {
    "collapsed": false
   },
   "outputs": [],
   "source": [
    "import numpy as np"
   ]
  },
  {
   "cell_type": "code",
   "execution_count": null,
   "metadata": {
    "collapsed": false
   },
   "outputs": [],
   "source": []
  },
  {
   "cell_type": "markdown",
   "metadata": {},
   "source": [
    "# 2. Mandelbrot\n",
    "\n",
    "The mandelbrot set is defined as the set of complex numbers $c$ for which the iteration $z_{n+1} = (z_n)^2 + c$, with $z_0=0$ does not diverge. In this exercise we want to compute the Mandelbrot set within a certain range.\n",
    "\n",
    "1. implement the function `in_mandelbrot( real, comp )` which computes whether a complex number (real = real part, comp=complex part) belongs to the mandelbrot set. Hint: the complex number 5+3i can be constructed in python as follows: `c = 5 + 1j*3`. Iterate `N_max` times and use the threshold `thresh`.\n",
    "2. generate a 2D array with `1000x1000` zeros called `M`\n",
    "3. compute for for all complex numbers with real part between -2 and 1 and with complex part between -1.5 and 1.5 whether they belong the Mandelbrot set and store the result in `M`.\n"
   ]
  },
  {
   "cell_type": "code",
   "execution_count": 6,
   "metadata": {
    "collapsed": false
   },
   "outputs": [],
   "source": [
    "N_max = 50 # number of iterations\n",
    "thresh = 50 # threshold\n",
    "\n",
    "def in_mandelbrot( real, comp ):\n",
    "    # computes whether a complex number (real = real part, comp=complex part) belongs to the mandelbrot set\n",
    "    pass\n"
   ]
  },
  {
   "cell_type": "code",
   "execution_count": 7,
   "metadata": {
    "collapsed": false
   },
   "outputs": [],
   "source": [
    "# plot the mandelbrot fractal\n",
    "# assusmes M is a 2D array filled with boolean values\n",
    "import matplotlib.pyplot as plt\n",
    "plt.imshow( M)\n",
    "plt.show()"
   ]
  },
  {
   "cell_type": "code",
   "execution_count": null,
   "metadata": {
    "collapsed": false
   },
   "outputs": [],
   "source": []
  },
  {
   "cell_type": "code",
   "execution_count": null,
   "metadata": {
    "collapsed": true
   },
   "outputs": [],
   "source": []
  }
 ],
 "metadata": {
  "kernelspec": {
   "display_name": "Python 3",
   "language": "python",
   "name": "python3"
  },
  "language_info": {
   "codemirror_mode": {
    "name": "ipython",
    "version": 3
   },
   "file_extension": ".py",
   "mimetype": "text/x-python",
   "name": "python",
   "nbconvert_exporter": "python",
   "pygments_lexer": "ipython3",
   "version": "3.4.3"
  }
 },
 "nbformat": 4,
 "nbformat_minor": 0
}
