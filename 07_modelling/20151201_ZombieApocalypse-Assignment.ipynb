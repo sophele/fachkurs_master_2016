{
 "metadata": {
  "kernelspec": {
   "display_name": "Python 3",
   "language": "python",
   "name": "python3"
  },
  "language_info": {
   "codemirror_mode": {
    "name": "ipython",
    "version": 3
   },
   "file_extension": ".py",
   "mimetype": "text/x-python",
   "name": "python",
   "nbconvert_exporter": "python",
   "pygments_lexer": "ipython3",
   "version": "3.4.3"
  },
  "name": "",
  "signature": "sha256:05db4960e7691cdccf97cb1a77391f6c35b6ab177dff65ba5023c2d161c1360d"
 },
 "nbformat": 3,
 "nbformat_minor": 0,
 "worksheets": [
  {
   "cells": [
    {
     "cell_type": "markdown",
     "metadata": {},
     "source": [
      "Ordinary Differential Equations - ODE\n",
      "====================\n",
      "or 'How to Model the Zombie Apocalypse'\n",
      "---------------------------------------------\n",
      "Jens Hahn - 01/12/2015\n",
      "\n",
      "Content taken from:      \n",
      "**Scipy Docs** at http://scipy-cookbook.readthedocs.org/items/Zombie_Apocalypse_ODEINT.html      \n",
      "Munz *et al.* (2009): http://mysite.science.uottawa.ca/rsmith43/Zombies.pdf"
     ]
    },
    {
     "cell_type": "markdown",
     "metadata": {},
     "source": [
      "Introduction\n",
      "=======\n",
      "What is an ODE\n",
      "----------------\n",
      "Differential equations can be used to describe the time-dependent behaviour of a variable.      \n",
      "$$\\frac{\\text{d}\\vec{x}}{\\text{d}t} = \\vec{f}(\\vec{x}, t)$$   \n",
      "In our case the variable stands for the number of humans in a infected (zombies) or not infected population.\n",
      "Of course they can also be used to describe the change of concentrations in a cell or other continuous or quasi-continuous quantity.     \n",
      "\n",
      "In general, a first order ODE has two parts, the increasing (birth, formation,...) and the decreasing (death, degradation, ...) part:\n",
      "\n",
      "$$\\frac{\\text{d}\\vec{x}}{\\text{d}t} = \\sum_{}\\text{Rates}_{\\text{production}} - \\sum_{}\\text{Rates}_{\\text{loss}}$$ \n",
      "\n",
      "\n",
      "You probably already know ways to solve a differential equation algebraically by 'separation of variables' (Trennung der Variablen) in the homogeneous case or 'variation of parameters' (Variation der Konstanten) in the inhomogeneous case. Here, we want to discuss the use of numerical methods to solve your ODE system."
     ]
    },
    {
     "cell_type": "markdown",
     "metadata": {},
     "source": [
      "Solve the model\n",
      "==========\n",
      "The zombie apokalypse model\n",
      "-------------------------\n",
      "Let's have a look at our equations:\n",
      "\n",
      "Number of susceptible victims $S$:\n",
      "$$\\frac{\\text{d}S}{\\text{d}t} = \\text{???}$$\n",
      "\n",
      "Number of zombies $Z$:\n",
      "$$\\frac{\\text{d}Z}{\\text{d}t} = \\text{???}$$\n",
      "\n",
      "Number of people \"killed\" $R$:\n",
      "$$\\frac{\\text{d}R}{\\text{d}t} = \\text{???}$$\n",
      "\n",
      "Parameters:     \n",
      "P: the population birth rate      \n",
      "d: the chance of a natural death      \n",
      "B: the chance the \u201czombie disease\u201d is transmitted (an alive person becomes a zombie)      \n",
      "G: the chance a dead person is resurrected into a zombie      \n",
      "A: the chance a zombie is totally destroyed by a human      "
     ]
    },
    {
     "cell_type": "markdown",
     "metadata": {},
     "source": [
      "Let's start\n",
      "------------\n",
      "Before we start the simulation of our model, we have to define our system.     \n",
      "We start with our static information:\n",
      "1. Initial conditions for our variables\n",
      "2. Values of the paramters\n",
      "3. Simulation time \n",
      "4. Number of time points at which we want to have the values for our variables (the time grid). *Use numpy!!*"
     ]
    },
    {
     "cell_type": "code",
     "collapsed": true,
     "input": [
      "import numpy as np\n",
      "# 1. initial conditions\n",
      "            # initial population\n",
      "            # initial zombie population\n",
      "            # initial death population\n",
      "            # initial condition vector\n",
      "\n",
      "# 2. parameter values\n",
      "            # birth rate\n",
      "            # 'natural' death percent (per day)\n",
      "            # transmission percent  (per day)\n",
      "            # resurect percent (per day)\n",
      "            # destroy percent  (per day)\n",
      "\n",
      "# 3. simulation time\n",
      "            # start time in days\n",
      "            # end time in days\n",
      "            # time grid, 1000 steps or data points (NUMPY!!!)"
     ],
     "language": "python",
     "metadata": {},
     "outputs": []
    },
    {
     "cell_type": "markdown",
     "metadata": {},
     "source": [
      "In the second step, we write a small function **f**, that receives a list of the current values of our variables **x** and the current time **t**. The function has to evaluate the equations of our system or $\\frac{\\text{d}\\vec{x}}{\\text{d}t}$, respectively. Afterwards, it returns the values of the equations as another list.     \n",
      "**Important**   \n",
      "*Since this function **f** is used by the solver, we are not allowed to change the input (arguments) or output (return value) of this function.*"
     ]
    },
    {
     "cell_type": "code",
     "collapsed": true,
     "input": [
      "# function 'f' or 'dxdt' to evaluate the changes of the system dy/dt = f(y, t)\n"
     ],
     "language": "python",
     "metadata": {},
     "outputs": []
    },
    {
     "cell_type": "markdown",
     "metadata": {},
     "source": [
      "Last but not least, we need to import and call our solver. The result will be a matrix with our time courses as columns and the values at the specified time points. Since we have a values for every time point and every species, we can directly plot the results using *matplotlib*. "
     ]
    },
    {
     "cell_type": "code",
     "collapsed": false,
     "input": [
      "# zombie apocalypse modeling\n",
      "import matplotlib.pyplot as plt  # for plotting\n",
      "# plots inside the notebook\n",
      "%matplotlib inline  \n",
      "from scipy.integrate import odeint  # the integrator\n",
      "\n",
      "# solve the DEs\n",
      "result = odeint(f, y0, t)\n",
      "S = result[:, 0]\n",
      "Z = result[:, 1]\n",
      "R = result[:, 2]\n",
      "\n",
      "# plot results\n",
      "plt.figure()\n",
      "plt.plot(t, S, label='Humans')\n",
      "plt.plot(t, Z, label='Zombies')\n",
      "plt.plot(t, R, label='Dead Humans')\n",
      "plt.xlabel('Days from outbreak')\n",
      "plt.ylabel('Population')\n",
      "plt.title('Zombie Apocalypse - No Init. Dead Pop.; No New Births.')\n",
      "plt.ylim([0,500])\n",
      "plt.legend(loc=0)"
     ],
     "language": "python",
     "metadata": {},
     "outputs": []
    },
    {
     "cell_type": "markdown",
     "metadata": {},
     "source": [
      "Literature:\n",
      "=======\n",
      "1. L. Gr\u00fcne & O. Junge - **Gew\u00f6hnliche Differentialgleichungen** - Vieweg+Teubner - 2009\n",
      "2. E. Hairer *et al.* - **Solving Ordinary Differential Equations I** - Springer - 2008\n",
      "3. E. Klipp *et al.* - **Systems Biology**: A Textbook - Wiley-Blackwell - 2009\n",
      "4. B. Ingalls - **Mathematical Modeling in Systems Biology**: An Introduction - MIT Press - 2013\n",
      "4. M. Covert - **Fundamentals of Systems Biology** - CRC Press - 2015\n",
      "6. H. Sauro - **Systems Biology**: Introduction to Pathway Modeling - Ambrosius Publishing - 2014\n",
      "\n"
     ]
    }
   ],
   "metadata": {}
  }
 ]
}