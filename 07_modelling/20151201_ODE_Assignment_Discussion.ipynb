{
 "metadata": {
  "kernelspec": {
   "display_name": "Python 3",
   "language": "python",
   "name": "python3"
  },
  "language_info": {
   "codemirror_mode": {
    "name": "ipython",
    "version": 3
   },
   "file_extension": ".py",
   "mimetype": "text/x-python",
   "name": "python",
   "nbconvert_exporter": "python",
   "pygments_lexer": "ipython3",
   "version": "3.4.3"
  },
  "name": "",
  "signature": "sha256:7f6c292fa1acd20d00ba6cd3105fe3dbaa85a9c10a8dd603f1932defe7009cc9"
 },
 "nbformat": 3,
 "nbformat_minor": 0,
 "worksheets": [
  {
   "cells": [
    {
     "cell_type": "markdown",
     "metadata": {},
     "source": [
      "Ordinary Differential Equations - ODE\n",
      "====================\n",
      "Jens Hahn - 01/12/2015"
     ]
    },
    {
     "cell_type": "markdown",
     "metadata": {},
     "source": [
      "Assignments\n",
      "======\n",
      "1. Discussion\n",
      "---------------\n",
      "* What are the characteristics of an ODE system, can you find possible applications?\n",
      "* When you look at our zombie example, what shortcomings can you find?"
     ]
    },
    {
     "cell_type": "markdown",
     "metadata": {},
     "source": [
      "2. Simulate the Lotka-Volterra model (predator - prey model)\n",
      "----------------------\n",
      "*Equations:* $$\\frac{\\text{d}R}{\\text{d}t} = \\alpha\\times R - \\beta\\times R \\times F$$\n",
      "$$\\frac{\\text{d}F}{\\text{d}t} = -\\gamma\\times F + \\delta\\times\\beta\\times R \\times F$$\n",
      "\n",
      "*Parameters:*     \n",
      "$\\alpha$: natural growing rate of rabbits, when there's no fox around     \n",
      "$\\beta$: natural dying rate of rabbits, due to predation     \n",
      "$\\gamma$: natural dying rate of fox, when there's no rabbit     \n",
      "$\\delta$: factor describing how many caught rabbits let create a new fox  \n",
      "\n",
      "------------------------------------------------------------------------------------------\n",
      "\n",
      "**a)** Find a reasonable parameter set     \n",
      "**b)** Plot the time courses using *matplotlib*     \n",
      "**c)** Plot the phase plot (What is a phase plot?)     "
     ]
    },
    {
     "cell_type": "markdown",
     "metadata": {},
     "source": [
      "3. Simulate the chemical reaction system below\n",
      "--------------------------------\n",
      "a) Use Michaelis-Menten kinetics to simulate this short reaction chain:\n",
      "$$\\text{A} \\longrightarrow \\text{B} \\longrightarrow \\text{C}$$\n",
      "* Find a reasonable parameter set\n",
      "* Plot the time courses\n",
      "b) Use *mass action* kinetics as rate law for the reactions below.\n",
      "<img src=\"reacsys.png\">\n",
      "* Find a reasonable parameter set\n",
      "* Plot the time courses"
     ]
    },
    {
     "cell_type": "markdown",
     "metadata": {},
     "source": [
      "ODEs to describe biochemical reactions\n",
      "------------------------------------------\n",
      "When you want to simulate biochemical reactions it is in principle not different to the things you've learned right now, but there is one important thing to consider. People have thought a lot about the best ways to describe certain kinds of chemical reactions and their kinetics. Let's have a look at one of the 'rates' from above:\n",
      "We wrote the birth rate of humans as $$v_{\\text{birth}} = \\text{P}$$\n",
      "that means, there is a constant addition of human beeings in our system, or a constant 'influx'."
     ]
    },
    {
     "cell_type": "markdown",
     "metadata": {},
     "source": [
      "Then, we have the 'natural' death of humans $$v_{\\text{death}} = \\text{d}\\times S$$  \n",
      "The extent of the rate is dependent on the current number of humans S, makes sense, right? The more human beeings there are, the more can die of 'natural' cause.    \n",
      "Finally, there is the killing of zombies, this rate is not only dependent on the number of zombies Z (the more there are, the more can be killed), but also on the number of humans S, the more there are, the more can kill zombies:\n",
      "$$v_{\\text{kill}} = \\text{A}\\times S \\times Z$$\n",
      "\n",
      "This kind of 'rate law' we call **mass action**, there is always a parameter multiplied by one or more variables.     "
     ]
    },
    {
     "cell_type": "markdown",
     "metadata": {},
     "source": [
      "The other very important kinetic rate law is the **Michaelis-Menten** kinetic, you've probably heard about it. This rate law was made for describing an enzymatic reactions, when the rate itself cannot reach unlimited extent. The velocity or flux is limited by the maximal rate of the enzyme:\n",
      "$$v_{\\text{MM}} = \\text{V}_\\text{max}\\times \\frac{S}{\\text{K}_{\\text{m}} + S}$$"
     ]
    },
    {
     "cell_type": "markdown",
     "metadata": {},
     "source": [
      "ODE modelling\n",
      "-------------   \n",
      "Today you have learned some things about ODE modelling.     \n",
      "Keep in mind, modelling a system using ODEs means you chose a model that is **continuous** and **deterministic**. We'll see in the next course what else is possible!"
     ]
    },
    {
     "cell_type": "markdown",
     "metadata": {},
     "source": [
      "Literature:\n",
      "=======\n",
      "1. L. Gr\u00fcne & O. Junge - **Gew\u00f6hnliche Differentialgleichungen** - Vieweg+Teubner - 2009\n",
      "2. E. Hairer *et al.* - **Solving Ordinary Differential Equations I** - Springer - 2008\n",
      "3. E. Klipp *et al.* - **Systems Biology**: A Textbook - Wiley-Blackwell - 2009\n",
      "4. B. Ingalls - **Mathematical Modeling in Systems Biology**: An Introduction - MIT Press - 2013\n",
      "4. M. Covert - **Fundamentals of Systems Biology** - CRC Press - 2015\n",
      "6. H. Sauro - **Systems Biology**: Introduction to Pathway Modeling - Ambrosius Publishing - 2014\n",
      "\n"
     ]
    }
   ],
   "metadata": {}
  }
 ]
}